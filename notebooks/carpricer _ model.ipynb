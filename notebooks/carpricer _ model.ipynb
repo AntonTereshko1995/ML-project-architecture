{
 "cells": [
  {
   "cell_type": "code",
   "execution_count": 63,
   "metadata": {},
   "outputs": [],
   "source": [
    "import sys\n",
    "sys.path.append(\"../\") \n",
    "\n",
    "import src.carpricer.dataprep as dataprep\n",
    "from src.carpricer.dataprep import transformations\n",
    "from src.carpricer.train import evaluator, trainer\n"
   ]
  },
  {
   "cell_type": "code",
   "execution_count": 64,
   "metadata": {},
   "outputs": [
    {
     "name": "stdout",
     "output_type": "stream",
     "text": [
      "model:\n",
      "  baseline: \n",
      "    objective: reg:squarederror\n",
      "    min_child_weight: 4\n",
      "    colsample_bytree: .7\n",
      "    n_estimators: 200\n",
      "  tune:\n",
      "    cv: 5\n",
      "    objective: neg_mean_squared_error\n",
      "    search:\n",
      "      learning_rate: [.003, .05, .07,]\n",
      "      max_depth: [3, 20]\n",
      "      alpha: [0, .5]\n",
      "      subsample: [.7, 1]\n",
      "data:\n",
      "  label: lnprice\n",
      "  test_size: 0.3"
     ]
    }
   ],
   "source": [
    "!cat ../src/carpricer/carpricer.params.yml"
   ]
  },
  {
   "cell_type": "code",
   "execution_count": 65,
   "metadata": {},
   "outputs": [],
   "source": [
    "train_path = \"../data/sample/automobile_prepared.csv\"\n",
    "params_file = \"../src/carpricer/carpricer.params.yml\""
   ]
  },
  {
   "cell_type": "code",
   "execution_count": 66,
   "metadata": {},
   "outputs": [],
   "source": [
    "from jobtools.arguments import ParamsNamespace"
   ]
  },
  {
   "cell_type": "code",
   "execution_count": 67,
   "metadata": {},
   "outputs": [],
   "source": [
    "params = ParamsNamespace.load(params_file)"
   ]
  },
  {
   "cell_type": "code",
   "execution_count": 68,
   "metadata": {},
   "outputs": [],
   "source": [
    "X_train, y_train, X_test, y_test = dataprep.read_and_split(train_path, \n",
    "                                                           params.data.test_size, \n",
    "                                                           params.data.label)"
   ]
  },
  {
   "cell_type": "code",
   "execution_count": 69,
   "metadata": {},
   "outputs": [],
   "source": [
    "X_train_transformed, transforms = transformations.scale_and_encode(X_train)"
   ]
  },
  {
   "cell_type": "code",
   "execution_count": 70,
   "metadata": {},
   "outputs": [],
   "source": [
    "X_test_transformed = transforms.transform(X_test)"
   ]
  },
  {
   "cell_type": "code",
   "execution_count": 71,
   "metadata": {},
   "outputs": [],
   "source": [
    "import mlflow"
   ]
  },
  {
   "cell_type": "code",
   "execution_count": 72,
   "metadata": {},
   "outputs": [],
   "source": [
    "if mlflow.active_run == 0:\n",
    "    mlflow.start_run()"
   ]
  },
  {
   "cell_type": "code",
   "execution_count": 73,
   "metadata": {},
   "outputs": [
    {
     "data": {
      "text/plain": [
       "namespace(objective='reg:squarederror',\n",
       "          min_child_weight=4,\n",
       "          colsample_bytree=0.7,\n",
       "          n_estimators=200)"
      ]
     },
     "execution_count": 73,
     "metadata": {},
     "output_type": "execute_result"
    }
   ],
   "source": [
    "params.model.baseline"
   ]
  },
  {
   "cell_type": "code",
   "execution_count": 74,
   "metadata": {},
   "outputs": [
    {
     "name": "stdout",
     "output_type": "stream",
     "text": [
      "Found existing installation: scikit-learn 1.3.1\n",
      "Uninstalling scikit-learn-1.3.1:\n",
      "  Successfully uninstalled scikit-learn-1.3.1\n",
      "Collecting scikit-learn==1.3.1\n",
      "  Using cached scikit_learn-1.3.1-cp310-cp310-macosx_12_0_arm64.whl.metadata (11 kB)\n",
      "Requirement already satisfied: numpy<2.0,>=1.17.3 in /Users/a/.pyenv/versions/3.10.0/lib/python3.10/site-packages (from scikit-learn==1.3.1) (1.26.4)\n",
      "Requirement already satisfied: scipy>=1.5.0 in /Users/a/.pyenv/versions/3.10.0/lib/python3.10/site-packages (from scikit-learn==1.3.1) (1.15.0)\n",
      "Requirement already satisfied: joblib>=1.1.1 in /Users/a/.pyenv/versions/3.10.0/lib/python3.10/site-packages (from scikit-learn==1.3.1) (1.4.2)\n",
      "Requirement already satisfied: threadpoolctl>=2.0.0 in /Users/a/.pyenv/versions/3.10.0/lib/python3.10/site-packages (from scikit-learn==1.3.1) (3.5.0)\n",
      "Using cached scikit_learn-1.3.1-cp310-cp310-macosx_12_0_arm64.whl (9.5 MB)\n",
      "Installing collected packages: scikit-learn\n",
      "Successfully installed scikit-learn-1.3.1\n"
     ]
    }
   ],
   "source": [
    "!pip uninstall -y scikit-learn\n",
    "!pip install scikit-learn==1.3.1"
   ]
  },
  {
   "cell_type": "code",
   "execution_count": 75,
   "metadata": {},
   "outputs": [],
   "source": [
    "from xgboost.sklearn import XGBRegressor\n",
    "\n",
    "base_model = XGBRegressor(silent=True, nthread=4, **params.model.baseline.to_dict())"
   ]
  },
  {
   "cell_type": "code",
   "execution_count": 76,
   "metadata": {},
   "outputs": [],
   "source": [
    "mlflow.log_params(params.model.baseline.to_dict()) "
   ]
  },
  {
   "cell_type": "code",
   "execution_count": 79,
   "metadata": {},
   "outputs": [
    {
     "name": "stdout",
     "output_type": "stream",
     "text": [
      "Fitting 5 folds for each of 24 candidates, totalling 120 fits\n"
     ]
    },
    {
     "name": "stderr",
     "output_type": "stream",
     "text": [
      "/Users/a/.pyenv/versions/3.10.0/lib/python3.10/site-packages/xgboost/core.py:158: UserWarning: [18:12:43] WARNING: /Users/runner/work/xgboost/xgboost/src/learner.cc:740: \n",
      "Parameters: { \"silent\" } are not used.\n",
      "\n",
      "  warnings.warn(smsg, UserWarning)\n",
      "/Users/a/.pyenv/versions/3.10.0/lib/python3.10/site-packages/xgboost/core.py:158: UserWarning: [18:12:43] WARNING: /Users/runner/work/xgboost/xgboost/src/learner.cc:740: \n",
      "Parameters: { \"silent\" } are not used.\n",
      "\n",
      "  warnings.warn(smsg, UserWarning)\n",
      "/Users/a/.pyenv/versions/3.10.0/lib/python3.10/site-packages/xgboost/core.py:158: UserWarning: [18:12:43] WARNING: /Users/runner/work/xgboost/xgboost/src/learner.cc:740: \n",
      "Parameters: { \"silent\" } are not used.\n",
      "\n",
      "  warnings.warn(smsg, UserWarning)\n",
      "/Users/a/.pyenv/versions/3.10.0/lib/python3.10/site-packages/xgboost/core.py:158: UserWarning: [18:12:43] WARNING: /Users/runner/work/xgboost/xgboost/src/learner.cc:740: \n",
      "Parameters: { \"silent\" } are not used.\n",
      "\n",
      "  warnings.warn(smsg, UserWarning)\n",
      "/Users/a/.pyenv/versions/3.10.0/lib/python3.10/site-packages/xgboost/core.py:158: UserWarning: [18:12:43] WARNING: /Users/runner/work/xgboost/xgboost/src/learner.cc:740: \n",
      "Parameters: { \"silent\" } are not used.\n",
      "\n",
      "  warnings.warn(smsg, UserWarning)\n",
      "/Users/a/.pyenv/versions/3.10.0/lib/python3.10/site-packages/xgboost/core.py:158: UserWarning: [18:12:43] WARNING: /Users/runner/work/xgboost/xgboost/src/learner.cc:740: \n",
      "Parameters: { \"silent\" } are not used.\n",
      "\n",
      "  warnings.warn(smsg, UserWarning)\n",
      "/Users/a/.pyenv/versions/3.10.0/lib/python3.10/site-packages/xgboost/core.py:158: UserWarning: [18:12:43] WARNING: /Users/runner/work/xgboost/xgboost/src/learner.cc:740: \n",
      "Parameters: { \"silent\" } are not used.\n",
      "\n",
      "  warnings.warn(smsg, UserWarning)\n",
      "/Users/a/.pyenv/versions/3.10.0/lib/python3.10/site-packages/xgboost/core.py:158: UserWarning: [18:12:43] WARNING: /Users/runner/work/xgboost/xgboost/src/learner.cc:740: \n",
      "Parameters: { \"silent\" } are not used.\n",
      "\n",
      "  warnings.warn(smsg, UserWarning)\n",
      "/Users/a/.pyenv/versions/3.10.0/lib/python3.10/site-packages/xgboost/core.py:158: UserWarning: [18:12:43] WARNING: /Users/runner/work/xgboost/xgboost/src/learner.cc:740: \n",
      "Parameters: { \"silent\" } are not used.\n",
      "\n",
      "  warnings.warn(smsg, UserWarning)\n",
      "/Users/a/.pyenv/versions/3.10.0/lib/python3.10/site-packages/xgboost/core.py:158: UserWarning: [18:12:43] WARNING: /Users/runner/work/xgboost/xgboost/src/learner.cc:740: \n",
      "Parameters: { \"silent\" } are not used.\n",
      "\n",
      "  warnings.warn(smsg, UserWarning)\n",
      "/Users/a/.pyenv/versions/3.10.0/lib/python3.10/site-packages/xgboost/core.py:158: UserWarning: [18:12:43] WARNING: /Users/runner/work/xgboost/xgboost/src/learner.cc:740: \n",
      "Parameters: { \"silent\" } are not used.\n",
      "\n",
      "  warnings.warn(smsg, UserWarning)\n",
      "/Users/a/.pyenv/versions/3.10.0/lib/python3.10/site-packages/xgboost/core.py:158: UserWarning: [18:12:43] WARNING: /Users/runner/work/xgboost/xgboost/src/learner.cc:740: \n",
      "Parameters: { \"silent\" } are not used.\n",
      "\n",
      "  warnings.warn(smsg, UserWarning)\n",
      "/Users/a/.pyenv/versions/3.10.0/lib/python3.10/site-packages/xgboost/core.py:158: UserWarning: [18:12:43] WARNING: /Users/runner/work/xgboost/xgboost/src/learner.cc:740: \n",
      "Parameters: { \"silent\" } are not used.\n",
      "\n",
      "  warnings.warn(smsg, UserWarning)\n",
      "/Users/a/.pyenv/versions/3.10.0/lib/python3.10/site-packages/xgboost/core.py:158: UserWarning: [18:12:43] WARNING: /Users/runner/work/xgboost/xgboost/src/learner.cc:740: \n",
      "Parameters: { \"silent\" } are not used.\n",
      "\n",
      "  warnings.warn(smsg, UserWarning)\n",
      "/Users/a/.pyenv/versions/3.10.0/lib/python3.10/site-packages/xgboost/core.py:158: UserWarning: [18:12:43] WARNING: /Users/runner/work/xgboost/xgboost/src/learner.cc:740: \n",
      "Parameters: { \"silent\" } are not used.\n",
      "\n",
      "  warnings.warn(smsg, UserWarning)\n",
      "/Users/a/.pyenv/versions/3.10.0/lib/python3.10/site-packages/xgboost/core.py:158: UserWarning: [18:12:43] WARNING: /Users/runner/work/xgboost/xgboost/src/learner.cc:740: \n",
      "Parameters: { \"silent\" } are not used.\n",
      "\n",
      "  warnings.warn(smsg, UserWarning)\n",
      "/Users/a/.pyenv/versions/3.10.0/lib/python3.10/site-packages/xgboost/core.py:158: UserWarning: [18:12:43] WARNING: /Users/runner/work/xgboost/xgboost/src/learner.cc:740: \n",
      "Parameters: { \"silent\" } are not used.\n",
      "\n",
      "  warnings.warn(smsg, UserWarning)\n",
      "/Users/a/.pyenv/versions/3.10.0/lib/python3.10/site-packages/xgboost/core.py:158: UserWarning: [18:12:43] WARNING: /Users/runner/work/xgboost/xgboost/src/learner.cc:740: \n",
      "Parameters: { \"silent\" } are not used.\n",
      "\n",
      "  warnings.warn(smsg, UserWarning)\n",
      "/Users/a/.pyenv/versions/3.10.0/lib/python3.10/site-packages/xgboost/core.py:158: UserWarning: [18:12:43] WARNING: /Users/runner/work/xgboost/xgboost/src/learner.cc:740: \n",
      "Parameters: { \"silent\" } are not used.\n",
      "\n",
      "  warnings.warn(smsg, UserWarning)\n",
      "/Users/a/.pyenv/versions/3.10.0/lib/python3.10/site-packages/xgboost/core.py:158: UserWarning: [18:12:43] WARNING: /Users/runner/work/xgboost/xgboost/src/learner.cc:740: \n",
      "Parameters: { \"silent\" } are not used.\n",
      "\n",
      "  warnings.warn(smsg, UserWarning)\n",
      "/Users/a/.pyenv/versions/3.10.0/lib/python3.10/site-packages/xgboost/core.py:158: UserWarning: [18:12:43] WARNING: /Users/runner/work/xgboost/xgboost/src/learner.cc:740: \n",
      "Parameters: { \"silent\" } are not used.\n",
      "\n",
      "  warnings.warn(smsg, UserWarning)\n",
      "/Users/a/.pyenv/versions/3.10.0/lib/python3.10/site-packages/xgboost/core.py:158: UserWarning: [18:12:43] WARNING: /Users/runner/work/xgboost/xgboost/src/learner.cc:740: \n",
      "Parameters: { \"silent\" } are not used.\n",
      "\n",
      "  warnings.warn(smsg, UserWarning)\n",
      "/Users/a/.pyenv/versions/3.10.0/lib/python3.10/site-packages/xgboost/core.py:158: UserWarning: [18:12:43] WARNING: /Users/runner/work/xgboost/xgboost/src/learner.cc:740: \n",
      "Parameters: { \"silent\" } are not used.\n",
      "\n",
      "  warnings.warn(smsg, UserWarning)\n",
      "/Users/a/.pyenv/versions/3.10.0/lib/python3.10/site-packages/xgboost/core.py:158: UserWarning: [18:12:43] WARNING: /Users/runner/work/xgboost/xgboost/src/learner.cc:740: \n",
      "Parameters: { \"silent\" } are not used.\n",
      "\n",
      "  warnings.warn(smsg, UserWarning)\n",
      "/Users/a/.pyenv/versions/3.10.0/lib/python3.10/site-packages/xgboost/core.py:158: UserWarning: [18:12:43] WARNING: /Users/runner/work/xgboost/xgboost/src/learner.cc:740: \n",
      "Parameters: { \"silent\" } are not used.\n",
      "\n",
      "  warnings.warn(smsg, UserWarning)\n",
      "/Users/a/.pyenv/versions/3.10.0/lib/python3.10/site-packages/xgboost/core.py:158: UserWarning: [18:12:43] WARNING: /Users/runner/work/xgboost/xgboost/src/learner.cc:740: \n",
      "Parameters: { \"silent\" } are not used.\n",
      "\n",
      "  warnings.warn(smsg, UserWarning)\n",
      "/Users/a/.pyenv/versions/3.10.0/lib/python3.10/site-packages/xgboost/core.py:158: UserWarning: [18:12:43] WARNING: /Users/runner/work/xgboost/xgboost/src/learner.cc:740: \n",
      "Parameters: { \"silent\" } are not used.\n",
      "\n",
      "  warnings.warn(smsg, UserWarning)\n",
      "/Users/a/.pyenv/versions/3.10.0/lib/python3.10/site-packages/xgboost/core.py:158: UserWarning: [18:12:43] WARNING: /Users/runner/work/xgboost/xgboost/src/learner.cc:740: \n",
      "Parameters: { \"silent\" } are not used.\n",
      "\n",
      "  warnings.warn(smsg, UserWarning)\n",
      "/Users/a/.pyenv/versions/3.10.0/lib/python3.10/site-packages/xgboost/core.py:158: UserWarning: [18:12:43] WARNING: /Users/runner/work/xgboost/xgboost/src/learner.cc:740: \n",
      "Parameters: { \"silent\" } are not used.\n",
      "\n",
      "  warnings.warn(smsg, UserWarning)\n",
      "/Users/a/.pyenv/versions/3.10.0/lib/python3.10/site-packages/xgboost/core.py:158: UserWarning: [18:12:43] WARNING: /Users/runner/work/xgboost/xgboost/src/learner.cc:740: \n",
      "Parameters: { \"silent\" } are not used.\n",
      "\n",
      "  warnings.warn(smsg, UserWarning)\n",
      "/Users/a/.pyenv/versions/3.10.0/lib/python3.10/site-packages/xgboost/core.py:158: UserWarning: [18:12:43] WARNING: /Users/runner/work/xgboost/xgboost/src/learner.cc:740: \n",
      "Parameters: { \"silent\" } are not used.\n",
      "\n",
      "  warnings.warn(smsg, UserWarning)\n",
      "/Users/a/.pyenv/versions/3.10.0/lib/python3.10/site-packages/xgboost/core.py:158: UserWarning: [18:12:43] WARNING: /Users/runner/work/xgboost/xgboost/src/learner.cc:740: \n",
      "Parameters: { \"silent\" } are not used.\n",
      "\n",
      "  warnings.warn(smsg, UserWarning)\n",
      "/Users/a/.pyenv/versions/3.10.0/lib/python3.10/site-packages/xgboost/core.py:158: UserWarning: [18:12:43] WARNING: /Users/runner/work/xgboost/xgboost/src/learner.cc:740: \n",
      "Parameters: { \"silent\" } are not used.\n",
      "\n",
      "  warnings.warn(smsg, UserWarning)\n",
      "/Users/a/.pyenv/versions/3.10.0/lib/python3.10/site-packages/xgboost/core.py:158: UserWarning: [18:12:43] WARNING: /Users/runner/work/xgboost/xgboost/src/learner.cc:740: \n",
      "Parameters: { \"silent\" } are not used.\n",
      "\n",
      "  warnings.warn(smsg, UserWarning)\n",
      "/Users/a/.pyenv/versions/3.10.0/lib/python3.10/site-packages/xgboost/core.py:158: UserWarning: [18:12:43] WARNING: /Users/runner/work/xgboost/xgboost/src/learner.cc:740: \n",
      "Parameters: { \"silent\" } are not used.\n",
      "\n",
      "  warnings.warn(smsg, UserWarning)\n",
      "/Users/a/.pyenv/versions/3.10.0/lib/python3.10/site-packages/xgboost/core.py:158: UserWarning: [18:12:43] WARNING: /Users/runner/work/xgboost/xgboost/src/learner.cc:740: \n",
      "Parameters: { \"silent\" } are not used.\n",
      "\n",
      "  warnings.warn(smsg, UserWarning)\n",
      "/Users/a/.pyenv/versions/3.10.0/lib/python3.10/site-packages/xgboost/core.py:158: UserWarning: [18:12:43] WARNING: /Users/runner/work/xgboost/xgboost/src/learner.cc:740: \n",
      "Parameters: { \"silent\" } are not used.\n",
      "\n",
      "  warnings.warn(smsg, UserWarning)\n",
      "/Users/a/.pyenv/versions/3.10.0/lib/python3.10/site-packages/xgboost/core.py:158: UserWarning: [18:12:43] WARNING: /Users/runner/work/xgboost/xgboost/src/learner.cc:740: \n",
      "Parameters: { \"silent\" } are not used.\n",
      "\n",
      "  warnings.warn(smsg, UserWarning)\n"
     ]
    },
    {
     "name": "stdout",
     "output_type": "stream",
     "text": [
      "[CV] END alpha=0, learning_rate=0.003, max_depth=3, subsample=0.7; total time=   0.0s\n",
      "[CV] END alpha=0, learning_rate=0.003, max_depth=3, subsample=0.7; total time=   0.0s\n",
      "[CV] END alpha=0, learning_rate=0.003, max_depth=3, subsample=1; total time=   0.0s\n",
      "[CV] END alpha=0, learning_rate=0.003, max_depth=3, subsample=1; total time=   0.0s\n",
      "[CV] END alpha=0, learning_rate=0.003, max_depth=3, subsample=0.7; total time=   0.0s\n",
      "[CV] END alpha=0, learning_rate=0.003, max_depth=3, subsample=0.7; total time=   0.0s\n",
      "[CV] END alpha=0, learning_rate=0.003, max_depth=3, subsample=0.7; total time=   0.0s\n",
      "[CV] END alpha=0, learning_rate=0.003, max_depth=3, subsample=1; total time=   0.0s\n",
      "[CV] END alpha=0, learning_rate=0.003, max_depth=3, subsample=1; total time=   0.0s\n",
      "[CV] END alpha=0, learning_rate=0.003, max_depth=3, subsample=1; total time=   0.0s\n",
      "[CV] END alpha=0, learning_rate=0.003, max_depth=20, subsample=0.7; total time=   0.0s\n",
      "[CV] END alpha=0, learning_rate=0.003, max_depth=20, subsample=0.7; total time=   0.0s\n",
      "[CV] END alpha=0, learning_rate=0.003, max_depth=20, subsample=1; total time=   0.0s\n",
      "[CV] END alpha=0, learning_rate=0.003, max_depth=20, subsample=0.7; total time=   0.0s\n",
      "[CV] END alpha=0, learning_rate=0.003, max_depth=20, subsample=0.7; total time=   0.0s\n",
      "[CV] END alpha=0, learning_rate=0.003, max_depth=20, subsample=1; total time=   0.0s\n",
      "[CV] END alpha=0, learning_rate=0.003, max_depth=20, subsample=0.7; total time=   0.1s\n",
      "[CV] END alpha=0, learning_rate=0.003, max_depth=20, subsample=1; total time=   0.1s\n",
      "[CV] END alpha=0, learning_rate=0.05, max_depth=3, subsample=0.7; total time=   0.0s\n",
      "[CV] END alpha=0, learning_rate=0.05, max_depth=3, subsample=0.7; total time=   0.0s\n",
      "[CV] END alpha=0, learning_rate=0.05, max_depth=3, subsample=0.7; total time=   0.0s\n",
      "[CV] END alpha=0, learning_rate=0.05, max_depth=3, subsample=0.7; total time=   0.0s\n",
      "[CV] END alpha=0, learning_rate=0.003, max_depth=20, subsample=1; total time=   0.0s\n",
      "[CV] END alpha=0, learning_rate=0.05, max_depth=3, subsample=0.7; total time=   0.0s\n",
      "[CV] END alpha=0, learning_rate=0.003, max_depth=20, subsample=1; total time=   0.0s\n",
      "[CV] END alpha=0, learning_rate=0.05, max_depth=3, subsample=1; total time=   0.0s\n",
      "[CV] END alpha=0, learning_rate=0.05, max_depth=3, subsample=1; total time=   0.0s\n",
      "[CV] END alpha=0, learning_rate=0.05, max_depth=3, subsample=1; total time=   0.0s\n",
      "[CV] END alpha=0, learning_rate=0.05, max_depth=3, subsample=1; total time=   0.0s\n",
      "[CV] END alpha=0, learning_rate=0.05, max_depth=3, subsample=1; total time=   0.0s\n",
      "[CV] END alpha=0, learning_rate=0.05, max_depth=20, subsample=0.7; total time=   0.0s\n",
      "[CV] END alpha=0, learning_rate=0.05, max_depth=20, subsample=0.7; total time=   0.0s\n",
      "[CV] END alpha=0, learning_rate=0.05, max_depth=20, subsample=0.7; total time=   0.0s\n",
      "[CV] END alpha=0, learning_rate=0.05, max_depth=20, subsample=0.7; total time=   0.0s\n",
      "[CV] END alpha=0, learning_rate=0.05, max_depth=20, subsample=0.7; total time=   0.1s\n"
     ]
    },
    {
     "name": "stderr",
     "output_type": "stream",
     "text": [
      "/Users/a/.pyenv/versions/3.10.0/lib/python3.10/site-packages/xgboost/core.py:158: UserWarning: [18:12:43] WARNING: /Users/runner/work/xgboost/xgboost/src/learner.cc:740: \n",
      "Parameters: { \"silent\" } are not used.\n",
      "\n",
      "  warnings.warn(smsg, UserWarning)\n",
      "/Users/a/.pyenv/versions/3.10.0/lib/python3.10/site-packages/xgboost/core.py:158: UserWarning: [18:12:43] WARNING: /Users/runner/work/xgboost/xgboost/src/learner.cc:740: \n",
      "Parameters: { \"silent\" } are not used.\n",
      "\n",
      "  warnings.warn(smsg, UserWarning)\n",
      "/Users/a/.pyenv/versions/3.10.0/lib/python3.10/site-packages/xgboost/core.py:158: UserWarning: [18:12:43] WARNING: /Users/runner/work/xgboost/xgboost/src/learner.cc:740: \n",
      "Parameters: { \"silent\" } are not used.\n",
      "\n",
      "  warnings.warn(smsg, UserWarning)\n",
      "/Users/a/.pyenv/versions/3.10.0/lib/python3.10/site-packages/xgboost/core.py:158: UserWarning: [18:12:43] WARNING: /Users/runner/work/xgboost/xgboost/src/learner.cc:740: \n",
      "Parameters: { \"silent\" } are not used.\n",
      "\n",
      "  warnings.warn(smsg, UserWarning)\n",
      "/Users/a/.pyenv/versions/3.10.0/lib/python3.10/site-packages/xgboost/core.py:158: UserWarning: [18:12:43] WARNING: /Users/runner/work/xgboost/xgboost/src/learner.cc:740: \n",
      "Parameters: { \"silent\" } are not used.\n",
      "\n",
      "  warnings.warn(smsg, UserWarning)\n",
      "/Users/a/.pyenv/versions/3.10.0/lib/python3.10/site-packages/xgboost/core.py:158: UserWarning: [18:12:43] WARNING: /Users/runner/work/xgboost/xgboost/src/learner.cc:740: \n",
      "Parameters: { \"silent\" } are not used.\n",
      "\n",
      "  warnings.warn(smsg, UserWarning)\n",
      "/Users/a/.pyenv/versions/3.10.0/lib/python3.10/site-packages/xgboost/core.py:158: UserWarning: [18:12:43] WARNING: /Users/runner/work/xgboost/xgboost/src/learner.cc:740: \n",
      "Parameters: { \"silent\" } are not used.\n",
      "\n",
      "  warnings.warn(smsg, UserWarning)\n",
      "/Users/a/.pyenv/versions/3.10.0/lib/python3.10/site-packages/xgboost/core.py:158: UserWarning: [18:12:43] WARNING: /Users/runner/work/xgboost/xgboost/src/learner.cc:740: \n",
      "Parameters: { \"silent\" } are not used.\n",
      "\n",
      "  warnings.warn(smsg, UserWarning)\n",
      "/Users/a/.pyenv/versions/3.10.0/lib/python3.10/site-packages/xgboost/core.py:158: UserWarning: [18:12:43] WARNING: /Users/runner/work/xgboost/xgboost/src/learner.cc:740: \n",
      "Parameters: { \"silent\" } are not used.\n",
      "\n",
      "  warnings.warn(smsg, UserWarning)\n",
      "/Users/a/.pyenv/versions/3.10.0/lib/python3.10/site-packages/xgboost/core.py:158: UserWarning: [18:12:43] WARNING: /Users/runner/work/xgboost/xgboost/src/learner.cc:740: \n",
      "Parameters: { \"silent\" } are not used.\n",
      "\n",
      "  warnings.warn(smsg, UserWarning)\n",
      "/Users/a/.pyenv/versions/3.10.0/lib/python3.10/site-packages/xgboost/core.py:158: UserWarning: [18:12:43] WARNING: /Users/runner/work/xgboost/xgboost/src/learner.cc:740: \n",
      "Parameters: { \"silent\" } are not used.\n",
      "\n",
      "  warnings.warn(smsg, UserWarning)\n",
      "/Users/a/.pyenv/versions/3.10.0/lib/python3.10/site-packages/xgboost/core.py:158: UserWarning: [18:12:43] WARNING: /Users/runner/work/xgboost/xgboost/src/learner.cc:740: \n",
      "Parameters: { \"silent\" } are not used.\n",
      "\n",
      "  warnings.warn(smsg, UserWarning)\n",
      "/Users/a/.pyenv/versions/3.10.0/lib/python3.10/site-packages/xgboost/core.py:158: UserWarning: [18:12:43] WARNING: /Users/runner/work/xgboost/xgboost/src/learner.cc:740: \n",
      "Parameters: { \"silent\" } are not used.\n",
      "\n",
      "  warnings.warn(smsg, UserWarning)\n",
      "/Users/a/.pyenv/versions/3.10.0/lib/python3.10/site-packages/xgboost/core.py:158: UserWarning: [18:12:43] WARNING: /Users/runner/work/xgboost/xgboost/src/learner.cc:740: \n",
      "Parameters: { \"silent\" } are not used.\n",
      "\n",
      "  warnings.warn(smsg, UserWarning)\n",
      "/Users/a/.pyenv/versions/3.10.0/lib/python3.10/site-packages/xgboost/core.py:158: UserWarning: [18:12:43] WARNING: /Users/runner/work/xgboost/xgboost/src/learner.cc:740: \n",
      "Parameters: { \"silent\" } are not used.\n",
      "\n",
      "  warnings.warn(smsg, UserWarning)\n",
      "/Users/a/.pyenv/versions/3.10.0/lib/python3.10/site-packages/xgboost/core.py:158: UserWarning: [18:12:43] WARNING: /Users/runner/work/xgboost/xgboost/src/learner.cc:740: \n",
      "Parameters: { \"silent\" } are not used.\n",
      "\n",
      "  warnings.warn(smsg, UserWarning)\n",
      "/Users/a/.pyenv/versions/3.10.0/lib/python3.10/site-packages/xgboost/core.py:158: UserWarning: [18:12:43] WARNING: /Users/runner/work/xgboost/xgboost/src/learner.cc:740: \n",
      "Parameters: { \"silent\" } are not used.\n",
      "\n",
      "  warnings.warn(smsg, UserWarning)\n",
      "/Users/a/.pyenv/versions/3.10.0/lib/python3.10/site-packages/xgboost/core.py:158: UserWarning: [18:12:43] WARNING: /Users/runner/work/xgboost/xgboost/src/learner.cc:740: \n",
      "Parameters: { \"silent\" } are not used.\n",
      "\n",
      "  warnings.warn(smsg, UserWarning)\n",
      "/Users/a/.pyenv/versions/3.10.0/lib/python3.10/site-packages/xgboost/core.py:158: UserWarning: [18:12:43] WARNING: /Users/runner/work/xgboost/xgboost/src/learner.cc:740: \n",
      "Parameters: { \"silent\" } are not used.\n",
      "\n",
      "  warnings.warn(smsg, UserWarning)\n",
      "/Users/a/.pyenv/versions/3.10.0/lib/python3.10/site-packages/xgboost/core.py:158: UserWarning: [18:12:43] WARNING: /Users/runner/work/xgboost/xgboost/src/learner.cc:740: \n",
      "Parameters: { \"silent\" } are not used.\n",
      "\n",
      "  warnings.warn(smsg, UserWarning)\n",
      "/Users/a/.pyenv/versions/3.10.0/lib/python3.10/site-packages/xgboost/core.py:158: UserWarning: [18:12:43] WARNING: /Users/runner/work/xgboost/xgboost/src/learner.cc:740: \n",
      "Parameters: { \"silent\" } are not used.\n",
      "\n",
      "  warnings.warn(smsg, UserWarning)\n",
      "/Users/a/.pyenv/versions/3.10.0/lib/python3.10/site-packages/xgboost/core.py:158: UserWarning: [18:12:43] WARNING: /Users/runner/work/xgboost/xgboost/src/learner.cc:740: \n",
      "Parameters: { \"silent\" } are not used.\n",
      "\n",
      "  warnings.warn(smsg, UserWarning)\n",
      "/Users/a/.pyenv/versions/3.10.0/lib/python3.10/site-packages/xgboost/core.py:158: UserWarning: [18:12:43] WARNING: /Users/runner/work/xgboost/xgboost/src/learner.cc:740: \n",
      "Parameters: { \"silent\" } are not used.\n",
      "\n",
      "  warnings.warn(smsg, UserWarning)\n",
      "/Users/a/.pyenv/versions/3.10.0/lib/python3.10/site-packages/xgboost/core.py:158: UserWarning: [18:12:43] WARNING: /Users/runner/work/xgboost/xgboost/src/learner.cc:740: \n",
      "Parameters: { \"silent\" } are not used.\n",
      "\n",
      "  warnings.warn(smsg, UserWarning)\n",
      "/Users/a/.pyenv/versions/3.10.0/lib/python3.10/site-packages/xgboost/core.py:158: UserWarning: [18:12:43] WARNING: /Users/runner/work/xgboost/xgboost/src/learner.cc:740: \n",
      "Parameters: { \"silent\" } are not used.\n",
      "\n",
      "  warnings.warn(smsg, UserWarning)\n",
      "/Users/a/.pyenv/versions/3.10.0/lib/python3.10/site-packages/xgboost/core.py:158: UserWarning: [18:12:43] WARNING: /Users/runner/work/xgboost/xgboost/src/learner.cc:740: \n",
      "Parameters: { \"silent\" } are not used.\n",
      "\n",
      "  warnings.warn(smsg, UserWarning)\n",
      "/Users/a/.pyenv/versions/3.10.0/lib/python3.10/site-packages/xgboost/core.py:158: UserWarning: [18:12:43] WARNING: /Users/runner/work/xgboost/xgboost/src/learner.cc:740: \n",
      "Parameters: { \"silent\" } are not used.\n",
      "\n",
      "  warnings.warn(smsg, UserWarning)\n",
      "/Users/a/.pyenv/versions/3.10.0/lib/python3.10/site-packages/xgboost/core.py:158: UserWarning: [18:12:43] WARNING: /Users/runner/work/xgboost/xgboost/src/learner.cc:740: \n",
      "Parameters: { \"silent\" } are not used.\n",
      "\n",
      "  warnings.warn(smsg, UserWarning)\n",
      "/Users/a/.pyenv/versions/3.10.0/lib/python3.10/site-packages/xgboost/core.py:158: UserWarning: [18:12:43] WARNING: /Users/runner/work/xgboost/xgboost/src/learner.cc:740: \n",
      "Parameters: { \"silent\" } are not used.\n",
      "\n",
      "  warnings.warn(smsg, UserWarning)\n",
      "/Users/a/.pyenv/versions/3.10.0/lib/python3.10/site-packages/xgboost/core.py:158: UserWarning: [18:12:43] WARNING: /Users/runner/work/xgboost/xgboost/src/learner.cc:740: \n",
      "Parameters: { \"silent\" } are not used.\n",
      "\n",
      "  warnings.warn(smsg, UserWarning)\n"
     ]
    },
    {
     "name": "stdout",
     "output_type": "stream",
     "text": [
      "[CV] END alpha=0, learning_rate=0.05, max_depth=20, subsample=1; total time=   0.1s\n",
      "[CV] END alpha=0, learning_rate=0.07, max_depth=3, subsample=0.7; total time=   0.0s\n",
      "[CV] END alpha=0, learning_rate=0.07, max_depth=3, subsample=0.7; total time=   0.0s\n",
      "[CV] END alpha=0, learning_rate=0.05, max_depth=20, subsample=1; total time=   0.1s\n",
      "[CV] END alpha=0, learning_rate=0.05, max_depth=20, subsample=1; total time=   0.1s\n",
      "[CV] END alpha=0, learning_rate=0.05, max_depth=20, subsample=1; total time=   0.1s\n",
      "[CV] END alpha=0, learning_rate=0.07, max_depth=3, subsample=0.7; total time=   0.0s\n",
      "[CV] END alpha=0, learning_rate=0.07, max_depth=3, subsample=0.7; total time=   0.1s\n",
      "[CV] END alpha=0, learning_rate=0.07, max_depth=3, subsample=1; total time=   0.1s\n",
      "[CV] END alpha=0, learning_rate=0.07, max_depth=3, subsample=1; total time=   0.1s\n",
      "[CV] END alpha=0, learning_rate=0.07, max_depth=3, subsample=0.7; total time=   0.1s\n",
      "[CV] END alpha=0, learning_rate=0.07, max_depth=3, subsample=1; total time=   0.1s\n",
      "[CV] END alpha=0, learning_rate=0.07, max_depth=3, subsample=1; total time=   0.1s\n",
      "[CV] END alpha=0, learning_rate=0.07, max_depth=3, subsample=1; total time=   0.1s\n",
      "[CV] END alpha=0, learning_rate=0.05, max_depth=20, subsample=1; total time=   0.1s\n",
      "[CV] END alpha=0, learning_rate=0.07, max_depth=20, subsample=0.7; total time=   0.0s\n",
      "[CV] END alpha=0, learning_rate=0.07, max_depth=20, subsample=0.7; total time=   0.0s\n",
      "[CV] END alpha=0, learning_rate=0.07, max_depth=20, subsample=0.7; total time=   0.1s\n",
      "[CV] END alpha=0.5, learning_rate=0.003, max_depth=3, subsample=0.7; total time=   0.0s\n",
      "[CV] END alpha=0, learning_rate=0.07, max_depth=20, subsample=0.7; total time=   0.0s\n",
      "[CV] END alpha=0, learning_rate=0.07, max_depth=20, subsample=1; total time=   0.1s\n",
      "[CV] END alpha=0, learning_rate=0.07, max_depth=20, subsample=0.7; total time=   0.1s\n",
      "[CV] END alpha=0.5, learning_rate=0.003, max_depth=3, subsample=0.7; total time=   0.0s\n",
      "[CV] END alpha=0.5, learning_rate=0.003, max_depth=3, subsample=1; total time=   0.0s\n",
      "[CV] END alpha=0.5, learning_rate=0.003, max_depth=3, subsample=0.7; total time=   0.0s\n",
      "[CV] END alpha=0, learning_rate=0.07, max_depth=20, subsample=1; total time=   0.1s\n",
      "[CV] END alpha=0, learning_rate=0.07, max_depth=20, subsample=1; total time=   0.1s\n",
      "[CV] END alpha=0.5, learning_rate=0.003, max_depth=3, subsample=0.7; total time=   0.0s\n",
      "[CV] END alpha=0.5, learning_rate=0.003, max_depth=3, subsample=1; total time=   0.0s\n",
      "[CV] END alpha=0.5, learning_rate=0.003, max_depth=3, subsample=0.7; total time=   0.0s\n",
      "[CV] END alpha=0.5, learning_rate=0.003, max_depth=3, subsample=1; total time=   0.0s\n",
      "[CV] END alpha=0.5, learning_rate=0.003, max_depth=3, subsample=1; total time=   0.0s\n",
      "[CV] END alpha=0.5, learning_rate=0.003, max_depth=20, subsample=0.7; total time=   0.0s\n"
     ]
    },
    {
     "name": "stderr",
     "output_type": "stream",
     "text": [
      "/Users/a/.pyenv/versions/3.10.0/lib/python3.10/site-packages/xgboost/core.py:158: UserWarning: [18:12:43] WARNING: /Users/runner/work/xgboost/xgboost/src/learner.cc:740: \n",
      "Parameters: { \"silent\" } are not used.\n",
      "\n",
      "  warnings.warn(smsg, UserWarning)\n",
      "/Users/a/.pyenv/versions/3.10.0/lib/python3.10/site-packages/xgboost/core.py:158: UserWarning: [18:12:43] WARNING: /Users/runner/work/xgboost/xgboost/src/learner.cc:740: \n",
      "Parameters: { \"silent\" } are not used.\n",
      "\n",
      "  warnings.warn(smsg, UserWarning)\n",
      "/Users/a/.pyenv/versions/3.10.0/lib/python3.10/site-packages/xgboost/core.py:158: UserWarning: [18:12:43] WARNING: /Users/runner/work/xgboost/xgboost/src/learner.cc:740: \n",
      "Parameters: { \"silent\" } are not used.\n",
      "\n",
      "  warnings.warn(smsg, UserWarning)\n",
      "/Users/a/.pyenv/versions/3.10.0/lib/python3.10/site-packages/xgboost/core.py:158: UserWarning: [18:12:43] WARNING: /Users/runner/work/xgboost/xgboost/src/learner.cc:740: \n",
      "Parameters: { \"silent\" } are not used.\n",
      "\n",
      "  warnings.warn(smsg, UserWarning)\n",
      "/Users/a/.pyenv/versions/3.10.0/lib/python3.10/site-packages/xgboost/core.py:158: UserWarning: [18:12:43] WARNING: /Users/runner/work/xgboost/xgboost/src/learner.cc:740: \n",
      "Parameters: { \"silent\" } are not used.\n",
      "\n",
      "  warnings.warn(smsg, UserWarning)\n",
      "/Users/a/.pyenv/versions/3.10.0/lib/python3.10/site-packages/xgboost/core.py:158: UserWarning: [18:12:43] WARNING: /Users/runner/work/xgboost/xgboost/src/learner.cc:740: \n",
      "Parameters: { \"silent\" } are not used.\n",
      "\n",
      "  warnings.warn(smsg, UserWarning)\n",
      "/Users/a/.pyenv/versions/3.10.0/lib/python3.10/site-packages/xgboost/core.py:158: UserWarning: [18:12:43] WARNING: /Users/runner/work/xgboost/xgboost/src/learner.cc:740: \n",
      "Parameters: { \"silent\" } are not used.\n",
      "\n",
      "  warnings.warn(smsg, UserWarning)\n",
      "/Users/a/.pyenv/versions/3.10.0/lib/python3.10/site-packages/xgboost/core.py:158: UserWarning: [18:12:44] WARNING: /Users/runner/work/xgboost/xgboost/src/learner.cc:740: \n",
      "Parameters: { \"silent\" } are not used.\n",
      "\n",
      "  warnings.warn(smsg, UserWarning)\n",
      "/Users/a/.pyenv/versions/3.10.0/lib/python3.10/site-packages/xgboost/core.py:158: UserWarning: [18:12:44] WARNING: /Users/runner/work/xgboost/xgboost/src/learner.cc:740: \n",
      "Parameters: { \"silent\" } are not used.\n",
      "\n",
      "  warnings.warn(smsg, UserWarning)\n",
      "/Users/a/.pyenv/versions/3.10.0/lib/python3.10/site-packages/xgboost/core.py:158: UserWarning: [18:12:44] WARNING: /Users/runner/work/xgboost/xgboost/src/learner.cc:740: \n",
      "Parameters: { \"silent\" } are not used.\n",
      "\n",
      "  warnings.warn(smsg, UserWarning)\n",
      "/Users/a/.pyenv/versions/3.10.0/lib/python3.10/site-packages/xgboost/core.py:158: UserWarning: [18:12:44] WARNING: /Users/runner/work/xgboost/xgboost/src/learner.cc:740: \n",
      "Parameters: { \"silent\" } are not used.\n",
      "\n",
      "  warnings.warn(smsg, UserWarning)\n",
      "/Users/a/.pyenv/versions/3.10.0/lib/python3.10/site-packages/xgboost/core.py:158: UserWarning: [18:12:44] WARNING: /Users/runner/work/xgboost/xgboost/src/learner.cc:740: \n",
      "Parameters: { \"silent\" } are not used.\n",
      "\n",
      "  warnings.warn(smsg, UserWarning)\n",
      "/Users/a/.pyenv/versions/3.10.0/lib/python3.10/site-packages/xgboost/core.py:158: UserWarning: [18:12:44] WARNING: /Users/runner/work/xgboost/xgboost/src/learner.cc:740: \n",
      "Parameters: { \"silent\" } are not used.\n",
      "\n",
      "  warnings.warn(smsg, UserWarning)\n",
      "/Users/a/.pyenv/versions/3.10.0/lib/python3.10/site-packages/xgboost/core.py:158: UserWarning: [18:12:44] WARNING: /Users/runner/work/xgboost/xgboost/src/learner.cc:740: \n",
      "Parameters: { \"silent\" } are not used.\n",
      "\n",
      "  warnings.warn(smsg, UserWarning)\n",
      "/Users/a/.pyenv/versions/3.10.0/lib/python3.10/site-packages/xgboost/core.py:158: UserWarning: [18:12:44] WARNING: /Users/runner/work/xgboost/xgboost/src/learner.cc:740: \n",
      "Parameters: { \"silent\" } are not used.\n",
      "\n",
      "  warnings.warn(smsg, UserWarning)\n",
      "/Users/a/.pyenv/versions/3.10.0/lib/python3.10/site-packages/xgboost/core.py:158: UserWarning: [18:12:44] WARNING: /Users/runner/work/xgboost/xgboost/src/learner.cc:740: \n",
      "Parameters: { \"silent\" } are not used.\n",
      "\n",
      "  warnings.warn(smsg, UserWarning)\n",
      "/Users/a/.pyenv/versions/3.10.0/lib/python3.10/site-packages/xgboost/core.py:158: UserWarning: [18:12:44] WARNING: /Users/runner/work/xgboost/xgboost/src/learner.cc:740: \n",
      "Parameters: { \"silent\" } are not used.\n",
      "\n",
      "  warnings.warn(smsg, UserWarning)\n",
      "/Users/a/.pyenv/versions/3.10.0/lib/python3.10/site-packages/xgboost/core.py:158: UserWarning: [18:12:44] WARNING: /Users/runner/work/xgboost/xgboost/src/learner.cc:740: \n",
      "Parameters: { \"silent\" } are not used.\n",
      "\n",
      "  warnings.warn(smsg, UserWarning)\n",
      "/Users/a/.pyenv/versions/3.10.0/lib/python3.10/site-packages/xgboost/core.py:158: UserWarning: [18:12:44] WARNING: /Users/runner/work/xgboost/xgboost/src/learner.cc:740: \n",
      "Parameters: { \"silent\" } are not used.\n",
      "\n",
      "  warnings.warn(smsg, UserWarning)\n",
      "/Users/a/.pyenv/versions/3.10.0/lib/python3.10/site-packages/xgboost/core.py:158: UserWarning: [18:12:44] WARNING: /Users/runner/work/xgboost/xgboost/src/learner.cc:740: \n",
      "Parameters: { \"silent\" } are not used.\n",
      "\n",
      "  warnings.warn(smsg, UserWarning)\n",
      "/Users/a/.pyenv/versions/3.10.0/lib/python3.10/site-packages/xgboost/core.py:158: UserWarning: [18:12:44] WARNING: /Users/runner/work/xgboost/xgboost/src/learner.cc:740: \n",
      "Parameters: { \"silent\" } are not used.\n",
      "\n",
      "  warnings.warn(smsg, UserWarning)\n",
      "/Users/a/.pyenv/versions/3.10.0/lib/python3.10/site-packages/xgboost/core.py:158: UserWarning: [18:12:44] WARNING: /Users/runner/work/xgboost/xgboost/src/learner.cc:740: \n",
      "Parameters: { \"silent\" } are not used.\n",
      "\n",
      "  warnings.warn(smsg, UserWarning)\n",
      "/Users/a/.pyenv/versions/3.10.0/lib/python3.10/site-packages/xgboost/core.py:158: UserWarning: [18:12:44] WARNING: /Users/runner/work/xgboost/xgboost/src/learner.cc:740: \n",
      "Parameters: { \"silent\" } are not used.\n",
      "\n",
      "  warnings.warn(smsg, UserWarning)\n",
      "/Users/a/.pyenv/versions/3.10.0/lib/python3.10/site-packages/xgboost/core.py:158: UserWarning: [18:12:44] WARNING: /Users/runner/work/xgboost/xgboost/src/learner.cc:740: \n",
      "Parameters: { \"silent\" } are not used.\n",
      "\n",
      "  warnings.warn(smsg, UserWarning)\n",
      "/Users/a/.pyenv/versions/3.10.0/lib/python3.10/site-packages/xgboost/core.py:158: UserWarning: [18:12:44] WARNING: /Users/runner/work/xgboost/xgboost/src/learner.cc:740: \n",
      "Parameters: { \"silent\" } are not used.\n",
      "\n",
      "  warnings.warn(smsg, UserWarning)\n",
      "/Users/a/.pyenv/versions/3.10.0/lib/python3.10/site-packages/xgboost/core.py:158: UserWarning: [18:12:44] WARNING: /Users/runner/work/xgboost/xgboost/src/learner.cc:740: \n",
      "Parameters: { \"silent\" } are not used.\n",
      "\n",
      "  warnings.warn(smsg, UserWarning)\n",
      "/Users/a/.pyenv/versions/3.10.0/lib/python3.10/site-packages/xgboost/core.py:158: UserWarning: [18:12:44] WARNING: /Users/runner/work/xgboost/xgboost/src/learner.cc:740: \n",
      "Parameters: { \"silent\" } are not used.\n",
      "\n",
      "  warnings.warn(smsg, UserWarning)\n",
      "/Users/a/.pyenv/versions/3.10.0/lib/python3.10/site-packages/xgboost/core.py:158: UserWarning: [18:12:44] WARNING: /Users/runner/work/xgboost/xgboost/src/learner.cc:740: \n",
      "Parameters: { \"silent\" } are not used.\n",
      "\n",
      "  warnings.warn(smsg, UserWarning)\n",
      "/Users/a/.pyenv/versions/3.10.0/lib/python3.10/site-packages/xgboost/core.py:158: UserWarning: [18:12:44] WARNING: /Users/runner/work/xgboost/xgboost/src/learner.cc:740: \n",
      "Parameters: { \"silent\" } are not used.\n",
      "\n",
      "  warnings.warn(smsg, UserWarning)\n",
      "/Users/a/.pyenv/versions/3.10.0/lib/python3.10/site-packages/xgboost/core.py:158: UserWarning: [18:12:44] WARNING: /Users/runner/work/xgboost/xgboost/src/learner.cc:740: \n",
      "Parameters: { \"silent\" } are not used.\n",
      "\n",
      "  warnings.warn(smsg, UserWarning)\n",
      "/Users/a/.pyenv/versions/3.10.0/lib/python3.10/site-packages/xgboost/core.py:158: UserWarning: [18:12:44] WARNING: /Users/runner/work/xgboost/xgboost/src/learner.cc:740: \n",
      "Parameters: { \"silent\" } are not used.\n",
      "\n",
      "  warnings.warn(smsg, UserWarning)\n",
      "/Users/a/.pyenv/versions/3.10.0/lib/python3.10/site-packages/xgboost/core.py:158: UserWarning: [18:12:44] WARNING: /Users/runner/work/xgboost/xgboost/src/learner.cc:740: \n",
      "Parameters: { \"silent\" } are not used.\n",
      "\n",
      "  warnings.warn(smsg, UserWarning)\n",
      "/Users/a/.pyenv/versions/3.10.0/lib/python3.10/site-packages/xgboost/core.py:158: UserWarning: [18:12:44] WARNING: /Users/runner/work/xgboost/xgboost/src/learner.cc:740: \n",
      "Parameters: { \"silent\" } are not used.\n",
      "\n",
      "  warnings.warn(smsg, UserWarning)\n",
      "/Users/a/.pyenv/versions/3.10.0/lib/python3.10/site-packages/xgboost/core.py:158: UserWarning: [18:12:44] WARNING: /Users/runner/work/xgboost/xgboost/src/learner.cc:740: \n",
      "Parameters: { \"silent\" } are not used.\n",
      "\n",
      "  warnings.warn(smsg, UserWarning)\n",
      "/Users/a/.pyenv/versions/3.10.0/lib/python3.10/site-packages/xgboost/core.py:158: UserWarning: [18:12:44] WARNING: /Users/runner/work/xgboost/xgboost/src/learner.cc:740: \n",
      "Parameters: { \"silent\" } are not used.\n",
      "\n",
      "  warnings.warn(smsg, UserWarning)\n",
      "/Users/a/.pyenv/versions/3.10.0/lib/python3.10/site-packages/xgboost/core.py:158: UserWarning: [18:12:44] WARNING: /Users/runner/work/xgboost/xgboost/src/learner.cc:740: \n",
      "Parameters: { \"silent\" } are not used.\n",
      "\n",
      "  warnings.warn(smsg, UserWarning)\n",
      "/Users/a/.pyenv/versions/3.10.0/lib/python3.10/site-packages/xgboost/core.py:158: UserWarning: [18:12:44] WARNING: /Users/runner/work/xgboost/xgboost/src/learner.cc:740: \n",
      "Parameters: { \"silent\" } are not used.\n",
      "\n",
      "  warnings.warn(smsg, UserWarning)\n",
      "/Users/a/.pyenv/versions/3.10.0/lib/python3.10/site-packages/xgboost/core.py:158: UserWarning: [18:12:44] WARNING: /Users/runner/work/xgboost/xgboost/src/learner.cc:740: \n",
      "Parameters: { \"silent\" } are not used.\n",
      "\n",
      "  warnings.warn(smsg, UserWarning)\n",
      "/Users/a/.pyenv/versions/3.10.0/lib/python3.10/site-packages/xgboost/core.py:158: UserWarning: [18:12:44] WARNING: /Users/runner/work/xgboost/xgboost/src/learner.cc:740: \n",
      "Parameters: { \"silent\" } are not used.\n",
      "\n",
      "  warnings.warn(smsg, UserWarning)\n",
      "/Users/a/.pyenv/versions/3.10.0/lib/python3.10/site-packages/xgboost/core.py:158: UserWarning: [18:12:44] WARNING: /Users/runner/work/xgboost/xgboost/src/learner.cc:740: \n",
      "Parameters: { \"silent\" } are not used.\n",
      "\n",
      "  warnings.warn(smsg, UserWarning)\n",
      "/Users/a/.pyenv/versions/3.10.0/lib/python3.10/site-packages/xgboost/core.py:158: UserWarning: [18:12:44] WARNING: /Users/runner/work/xgboost/xgboost/src/learner.cc:740: \n",
      "Parameters: { \"silent\" } are not used.\n",
      "\n",
      "  warnings.warn(smsg, UserWarning)\n",
      "/Users/a/.pyenv/versions/3.10.0/lib/python3.10/site-packages/xgboost/core.py:158: UserWarning: [18:12:44] WARNING: /Users/runner/work/xgboost/xgboost/src/learner.cc:740: \n",
      "Parameters: { \"silent\" } are not used.\n",
      "\n",
      "  warnings.warn(smsg, UserWarning)\n",
      "/Users/a/.pyenv/versions/3.10.0/lib/python3.10/site-packages/xgboost/core.py:158: UserWarning: [18:12:44] WARNING: /Users/runner/work/xgboost/xgboost/src/learner.cc:740: \n",
      "Parameters: { \"silent\" } are not used.\n",
      "\n",
      "  warnings.warn(smsg, UserWarning)\n",
      "/Users/a/.pyenv/versions/3.10.0/lib/python3.10/site-packages/xgboost/core.py:158: UserWarning: [18:12:44] WARNING: /Users/runner/work/xgboost/xgboost/src/learner.cc:740: \n",
      "Parameters: { \"silent\" } are not used.\n",
      "\n",
      "  warnings.warn(smsg, UserWarning)\n",
      "/Users/a/.pyenv/versions/3.10.0/lib/python3.10/site-packages/xgboost/core.py:158: UserWarning: [18:12:44] WARNING: /Users/runner/work/xgboost/xgboost/src/learner.cc:740: \n",
      "Parameters: { \"silent\" } are not used.\n",
      "\n",
      "  warnings.warn(smsg, UserWarning)\n",
      "/Users/a/.pyenv/versions/3.10.0/lib/python3.10/site-packages/xgboost/core.py:158: UserWarning: [18:12:44] WARNING: /Users/runner/work/xgboost/xgboost/src/learner.cc:740: \n",
      "Parameters: { \"silent\" } are not used.\n",
      "\n",
      "  warnings.warn(smsg, UserWarning)\n",
      "/Users/a/.pyenv/versions/3.10.0/lib/python3.10/site-packages/xgboost/core.py:158: UserWarning: [18:12:44] WARNING: /Users/runner/work/xgboost/xgboost/src/learner.cc:740: \n",
      "Parameters: { \"silent\" } are not used.\n",
      "\n",
      "  warnings.warn(smsg, UserWarning)\n",
      "/Users/a/.pyenv/versions/3.10.0/lib/python3.10/site-packages/xgboost/core.py:158: UserWarning: [18:12:44] WARNING: /Users/runner/work/xgboost/xgboost/src/learner.cc:740: \n",
      "Parameters: { \"silent\" } are not used.\n",
      "\n",
      "  warnings.warn(smsg, UserWarning)\n"
     ]
    },
    {
     "name": "stdout",
     "output_type": "stream",
     "text": [
      "[CV] END alpha=0.5, learning_rate=0.003, max_depth=20, subsample=0.7; total time=   0.1s\n",
      "[CV] END alpha=0.5, learning_rate=0.003, max_depth=20, subsample=1; total time=   0.0s\n",
      "[CV] END alpha=0.5, learning_rate=0.003, max_depth=20, subsample=0.7; total time=   0.0s\n",
      "[CV] END alpha=0.5, learning_rate=0.003, max_depth=20, subsample=1; total time=   0.0s\n",
      "[CV] END alpha=0.5, learning_rate=0.003, max_depth=3, subsample=1; total time=   0.1s\n",
      "[CV] END alpha=0.5, learning_rate=0.003, max_depth=20, subsample=0.7; total time=   0.0s\n",
      "[CV] END alpha=0, learning_rate=0.07, max_depth=20, subsample=1; total time=   0.1s\n",
      "[CV] END alpha=0, learning_rate=0.07, max_depth=20, subsample=1; total time=   0.1s\n",
      "[CV] END alpha=0.5, learning_rate=0.003, max_depth=20, subsample=0.7; total time=   0.0s\n",
      "[CV] END alpha=0.5, learning_rate=0.003, max_depth=20, subsample=1; total time=   0.0s\n",
      "[CV] END alpha=0.5, learning_rate=0.003, max_depth=20, subsample=1; total time=   0.0s\n",
      "[CV] END alpha=0.5, learning_rate=0.003, max_depth=20, subsample=1; total time=   0.0s\n",
      "[CV] END alpha=0.5, learning_rate=0.05, max_depth=3, subsample=1; total time=   0.0s\n",
      "[CV] END alpha=0.5, learning_rate=0.05, max_depth=3, subsample=0.7; total time=   0.0s\n",
      "[CV] END alpha=0.5, learning_rate=0.05, max_depth=3, subsample=0.7; total time=   0.0s\n",
      "[CV] END alpha=0.5, learning_rate=0.05, max_depth=3, subsample=1; total time=   0.0s\n",
      "[CV] END alpha=0.5, learning_rate=0.05, max_depth=3, subsample=0.7; total time=   0.0s\n",
      "[CV] END alpha=0.5, learning_rate=0.05, max_depth=20, subsample=0.7; total time=   0.0s\n",
      "[CV] END alpha=0.5, learning_rate=0.07, max_depth=3, subsample=0.7; total time=   0.0s\n",
      "[CV] END alpha=0.5, learning_rate=0.05, max_depth=3, subsample=1; total time=   0.0s\n",
      "[CV] END alpha=0.5, learning_rate=0.05, max_depth=3, subsample=1; total time=   0.0s\n",
      "[CV] END alpha=0.5, learning_rate=0.05, max_depth=3, subsample=0.7; total time=   0.0s\n",
      "[CV] END alpha=0.5, learning_rate=0.05, max_depth=3, subsample=0.7; total time=   0.0s\n",
      "[CV] END alpha=0.5, learning_rate=0.05, max_depth=20, subsample=1; total time=   0.0s\n",
      "[CV] END alpha=0.5, learning_rate=0.05, max_depth=3, subsample=1; total time=   0.0s\n",
      "[CV] END alpha=0.5, learning_rate=0.07, max_depth=3, subsample=1; total time=   0.0s\n",
      "[CV] END alpha=0.5, learning_rate=0.05, max_depth=20, subsample=0.7; total time=   0.0s\n",
      "[CV] END alpha=0.5, learning_rate=0.07, max_depth=3, subsample=0.7; total time=   0.0s\n",
      "[CV] END alpha=0.5, learning_rate=0.07, max_depth=3, subsample=1; total time=   0.0s\n",
      "[CV] END alpha=0.5, learning_rate=0.07, max_depth=20, subsample=0.7; total time=   0.0s\n",
      "[CV] END alpha=0.5, learning_rate=0.07, max_depth=20, subsample=1; total time=   0.0s\n",
      "[CV] END alpha=0.5, learning_rate=0.05, max_depth=20, subsample=0.7; total time=   0.0s\n",
      "[CV] END alpha=0.5, learning_rate=0.05, max_depth=20, subsample=1; total time=   0.0s\n",
      "[CV] END alpha=0.5, learning_rate=0.07, max_depth=3, subsample=1; total time=   0.0s\n",
      "[CV] END alpha=0.5, learning_rate=0.07, max_depth=3, subsample=0.7; total time=   0.1s\n",
      "[CV] END alpha=0.5, learning_rate=0.05, max_depth=20, subsample=0.7; total time=   0.0s\n",
      "[CV] END alpha=0.5, learning_rate=0.07, max_depth=20, subsample=0.7; total time=   0.0s\n",
      "[CV] END alpha=0.5, learning_rate=0.07, max_depth=20, subsample=0.7; total time=   0.0s\n",
      "[CV] END alpha=0.5, learning_rate=0.07, max_depth=20, subsample=1; total time=   0.0s\n",
      "[CV] END alpha=0.5, learning_rate=0.07, max_depth=3, subsample=1; total time=   0.0s\n",
      "[CV] END alpha=0.5, learning_rate=0.05, max_depth=20, subsample=1; total time=   0.0s\n",
      "[CV] END alpha=0.5, learning_rate=0.05, max_depth=20, subsample=0.7; total time=   0.0s\n",
      "[CV] END alpha=0.5, learning_rate=0.05, max_depth=20, subsample=1; total time=   0.0s\n",
      "[CV] END alpha=0.5, learning_rate=0.07, max_depth=3, subsample=1; total time=   0.0s\n",
      "[CV] END alpha=0.5, learning_rate=0.07, max_depth=3, subsample=0.7; total time=   0.0s\n",
      "[CV] END alpha=0.5, learning_rate=0.07, max_depth=20, subsample=0.7; total time=   0.0s\n",
      "[CV] END alpha=0.5, learning_rate=0.07, max_depth=20, subsample=0.7; total time=   0.0s\n",
      "[CV] END alpha=0.5, learning_rate=0.07, max_depth=20, subsample=1; total time=   0.0s\n",
      "[CV] END alpha=0.5, learning_rate=0.05, max_depth=20, subsample=1; total time=   0.0s\n",
      "[CV] END alpha=0.5, learning_rate=0.07, max_depth=3, subsample=0.7; total time=   0.0s\n",
      "[CV] END alpha=0.5, learning_rate=0.07, max_depth=20, subsample=1; total time=   0.0s\n",
      "[CV] END alpha=0.5, learning_rate=0.07, max_depth=20, subsample=1; total time=   0.0s\n"
     ]
    },
    {
     "name": "stderr",
     "output_type": "stream",
     "text": [
      "/Users/a/.pyenv/versions/3.10.0/lib/python3.10/site-packages/xgboost/core.py:158: UserWarning: [18:12:44] WARNING: /Users/runner/work/xgboost/xgboost/src/learner.cc:740: \n",
      "Parameters: { \"silent\" } are not used.\n",
      "\n",
      "  warnings.warn(smsg, UserWarning)\n",
      "/Users/a/.pyenv/versions/3.10.0/lib/python3.10/site-packages/xgboost/core.py:158: UserWarning: [18:12:44] WARNING: /Users/runner/work/xgboost/xgboost/src/learner.cc:740: \n",
      "Parameters: { \"silent\" } are not used.\n",
      "\n",
      "  warnings.warn(smsg, UserWarning)\n",
      "/Users/a/.pyenv/versions/3.10.0/lib/python3.10/site-packages/xgboost/core.py:158: UserWarning: [18:12:44] WARNING: /Users/runner/work/xgboost/xgboost/src/learner.cc:740: \n",
      "Parameters: { \"silent\" } are not used.\n",
      "\n",
      "  warnings.warn(smsg, UserWarning)\n",
      "/Users/a/.pyenv/versions/3.10.0/lib/python3.10/site-packages/xgboost/core.py:158: UserWarning: [18:12:44] WARNING: /Users/runner/work/xgboost/xgboost/src/learner.cc:740: \n",
      "Parameters: { \"silent\" } are not used.\n",
      "\n",
      "  warnings.warn(smsg, UserWarning)\n",
      "/Users/a/.pyenv/versions/3.10.0/lib/python3.10/site-packages/xgboost/core.py:158: UserWarning: [18:12:44] WARNING: /Users/runner/work/xgboost/xgboost/src/learner.cc:740: \n",
      "Parameters: { \"silent\" } are not used.\n",
      "\n",
      "  warnings.warn(smsg, UserWarning)\n"
     ]
    }
   ],
   "source": [
    "search = trainer.fit_and_optimize(X_train_transformed, \n",
    "                                  y_train.to_numpy(), \n",
    "                                  base_model=base_model,\n",
    "                                  param_grid=params.model.tune.search.to_dict(),\n",
    "                                  cv=params.model.tune.cv,\n",
    "                                  scoring_fit=params.model.tune.objective)"
   ]
  },
  {
   "cell_type": "code",
   "execution_count": 80,
   "metadata": {},
   "outputs": [
    {
     "data": {
      "image/png": "[encoded data removed]",
      "text/plain": [
       "<Figure size 640x480 with 2 Axes>"
      ]
     },
     "metadata": {},
     "output_type": "display_data"
    },
    {
     "data": {
      "image/png": "[encoded data removed]",
      "text/plain": [
       "<Figure size 640x480 with 2 Axes>"
      ]
     },
     "metadata": {},
     "output_type": "display_data"
    },
    {
     "data": {
      "image/png": "[encoded data removed]",
      "text/plain": [
       "<Figure size 640x480 with 2 Axes>"
      ]
     },
     "metadata": {},
     "output_type": "display_data"
    },
    {
     "data": {
      "image/png": "[encoded data removed]",
      "text/plain": [
       "<Figure size 640x480 with 2 Axes>"
      ]
     },
     "metadata": {},
     "output_type": "display_data"
    }
   ],
   "source": [
    "evaluator.evaluate_search(search, plot_params_name=['learning_rate', 'max_depth'], to_mlflow=False)"
   ]
  },
  {
   "cell_type": "code",
   "execution_count": 81,
   "metadata": {},
   "outputs": [],
   "source": [
    "best_model = search.best_estimator_\n",
    "best_params = search.best_params_"
   ]
  },
  {
   "cell_type": "code",
   "execution_count": 82,
   "metadata": {},
   "outputs": [
    {
     "data": {
      "text/plain": [
       "{'alpha': 0, 'learning_rate': 0.05, 'max_depth': 3, 'subsample': 0.7}"
      ]
     },
     "execution_count": 82,
     "metadata": {},
     "output_type": "execute_result"
    }
   ],
   "source": [
    "best_params"
   ]
  },
  {
   "cell_type": "code",
   "execution_count": 83,
   "metadata": {},
   "outputs": [],
   "source": [
    "mlflow.log_params(best_params)"
   ]
  },
  {
   "cell_type": "code",
   "execution_count": 84,
   "metadata": {},
   "outputs": [],
   "source": [
    "metrics = evaluator.evaluate_regressor(best_model, X_test_transformed, y_test)"
   ]
  },
  {
   "cell_type": "code",
   "execution_count": 85,
   "metadata": {},
   "outputs": [],
   "source": [
    "mlflow.log_metrics(metrics)"
   ]
  },
  {
   "cell_type": "code",
   "execution_count": 86,
   "metadata": {},
   "outputs": [],
   "source": [
    "from sklearn.pipeline import Pipeline"
   ]
  },
  {
   "cell_type": "code",
   "execution_count": 87,
   "metadata": {},
   "outputs": [],
   "source": [
    "model_pipeline = Pipeline(steps=[('preprocessing', transforms),\n",
    "                                 ('model', best_model)])"
   ]
  },
  {
   "cell_type": "code",
   "execution_count": 61,
   "metadata": {},
   "outputs": [
    {
     "data": {
      "text/plain": [
       "Index(['make', 'fuel-type', 'aspiration', 'num-of-doors', 'body-style',\n",
       "       'drive-wheels', 'engine-location', 'wheel-base', 'length', 'width',\n",
       "       'height', 'curb-weight', 'engine-type', 'num-of-cylinders',\n",
       "       'engine-size', 'fuel-system', 'bore', 'stroke', 'compression-ratio',\n",
       "       'horsepower', 'peak-rpm', 'city-mpg', 'highway-mpg'],\n",
       "      dtype='object')"
      ]
     },
     "execution_count": 61,
     "metadata": {},
     "output_type": "execute_result"
    }
   ],
   "source": [
    "# if os.path.isdir(data_path):\n",
    "#     data_path = os.path.join(data_path, \"*.csv\")\n",
    "\n",
    "# if not str(data_path).endswith('.csv'):\n",
    "#     raise TypeError('Only CSV files are supported by the loading data procedure.')\n",
    "\n",
    "# if not glob.glob(data_path):\n",
    "#     raise FileNotFoundError(f\"Path or directory {data_path} doesn't exists\")\n",
    "\n",
    "# df = dp.concat(map(dp.read_csv, glob.glob(data_path))).dropna()\n",
    "# train, test = train_test_split(df, test_size=test_size)\n",
    "\n",
    "# X_train = train.drop([label], axis=1)\n",
    "# y_train = train[label].to_frame([label])\n",
    "\n",
    "# X_test = test.drop([label], axis=1)\n",
    "# y_test = test[label].to_frame([label])"
   ]
  },
  {
   "cell_type": "code",
   "execution_count": 89,
   "metadata": {},
   "outputs": [
    {
     "name": "stderr",
     "output_type": "stream",
     "text": [
      "/Users/a/.pyenv/versions/3.10.0/lib/python3.10/site-packages/xgboost/core.py:158: UserWarning: [18:13:45] WARNING: /Users/runner/work/xgboost/xgboost/src/learner.cc:740: \n",
      "Parameters: { \"silent\" } are not used.\n",
      "\n",
      "  warnings.warn(smsg, UserWarning)\n"
     ]
    },
    {
     "data": {
      "text/html": [
       "<style>#sk-container-id-4 {color: black;}#sk-container-id-4 pre{padding: 0;}#sk-container-id-4 div.sk-toggleable {background-color: white;}#sk-container-id-4 label.sk-toggleable__label {cursor: pointer;display: block;width: 100%;margin-bottom: 0;padding: 0.3em;box-sizing: border-box;text-align: center;}#sk-container-id-4 label.sk-toggleable__label-arrow:before {content: \"▸\";float: left;margin-right: 0.25em;color: #696969;}#sk-container-id-4 label.sk-toggleable__label-arrow:hover:before {color: black;}#sk-container-id-4 div.sk-estimator:hover label.sk-toggleable__label-arrow:before {color: black;}#sk-container-id-4 div.sk-toggleable__content {max-height: 0;max-width: 0;overflow: hidden;text-align: left;background-color: #f0f8ff;}#sk-container-id-4 div.sk-toggleable__content pre {margin: 0.2em;color: black;border-radius: 0.25em;background-color: #f0f8ff;}#sk-container-id-4 input.sk-toggleable__control:checked~div.sk-toggleable__content {max-height: 200px;max-width: 100%;overflow: auto;}#sk-container-id-4 input.sk-toggleable__control:checked~label.sk-toggleable__label-arrow:before {content: \"▾\";}#sk-container-id-4 div.sk-estimator input.sk-toggleable__control:checked~label.sk-toggleable__label {background-color: #d4ebff;}#sk-container-id-4 div.sk-label input.sk-toggleable__control:checked~label.sk-toggleable__label {background-color: #d4ebff;}#sk-container-id-4 input.sk-hidden--visually {border: 0;clip: rect(1px 1px 1px 1px);clip: rect(1px, 1px, 1px, 1px);height: 1px;margin: -1px;overflow: hidden;padding: 0;position: absolute;width: 1px;}#sk-container-id-4 div.sk-estimator {font-family: monospace;background-color: #f0f8ff;border: 1px dotted black;border-radius: 0.25em;box-sizing: border-box;margin-bottom: 0.5em;}#sk-container-id-4 div.sk-estimator:hover {background-color: #d4ebff;}#sk-container-id-4 div.sk-parallel-item::after {content: \"\";width: 100%;border-bottom: 1px solid gray;flex-grow: 1;}#sk-container-id-4 div.sk-label:hover label.sk-toggleable__label {background-color: #d4ebff;}#sk-container-id-4 div.sk-serial::before {content: \"\";position: absolute;border-left: 1px solid gray;box-sizing: border-box;top: 0;bottom: 0;left: 50%;z-index: 0;}#sk-container-id-4 div.sk-serial {display: flex;flex-direction: column;align-items: center;background-color: white;padding-right: 0.2em;padding-left: 0.2em;position: relative;}#sk-container-id-4 div.sk-item {position: relative;z-index: 1;}#sk-container-id-4 div.sk-parallel {display: flex;align-items: stretch;justify-content: center;background-color: white;position: relative;}#sk-container-id-4 div.sk-item::before, #sk-container-id-4 div.sk-parallel-item::before {content: \"\";position: absolute;border-left: 1px solid gray;box-sizing: border-box;top: 0;bottom: 0;left: 50%;z-index: -1;}#sk-container-id-4 div.sk-parallel-item {display: flex;flex-direction: column;z-index: 1;position: relative;background-color: white;}#sk-container-id-4 div.sk-parallel-item:first-child::after {align-self: flex-end;width: 50%;}#sk-container-id-4 div.sk-parallel-item:last-child::after {align-self: flex-start;width: 50%;}#sk-container-id-4 div.sk-parallel-item:only-child::after {width: 0;}#sk-container-id-4 div.sk-dashed-wrapped {border: 1px dashed gray;margin: 0 0.4em 0.5em 0.4em;box-sizing: border-box;padding-bottom: 0.4em;background-color: white;}#sk-container-id-4 div.sk-label label {font-family: monospace;font-weight: bold;display: inline-block;line-height: 1.2em;}#sk-container-id-4 div.sk-label-container {text-align: center;}#sk-container-id-4 div.sk-container {/* jupyter's `normalize.less` sets `[hidden] { display: none; }` but bootstrap.min.css set `[hidden] { display: none !important; }` so we also need the `!important` here to be able to override the default hidden behavior on the sphinx rendered scikit-learn.org. See: https://github.com/scikit-learn/scikit-learn/issues/21755 */display: inline-block !important;position: relative;}#sk-container-id-4 div.sk-text-repr-fallback {display: none;}</style><div id=\"sk-container-id-4\" class=\"sk-top-container\"><div class=\"sk-text-repr-fallback\"><pre>Pipeline(steps=[(&#x27;preprocessing&#x27;,\n",
       "                 ColumnTransformer(transformers=[(&#x27;num_inputer&#x27;,\n",
       "                                                  SimpleImputer(strategy=&#x27;median&#x27;),\n",
       "                                                  [&#x27;wheel-base&#x27;, &#x27;length&#x27;,\n",
       "                                                   &#x27;width&#x27;, &#x27;height&#x27;,\n",
       "                                                   &#x27;curb-weight&#x27;, &#x27;engine-size&#x27;,\n",
       "                                                   &#x27;bore&#x27;, &#x27;stroke&#x27;,\n",
       "                                                   &#x27;compression-ratio&#x27;,\n",
       "                                                   &#x27;horsepower&#x27;, &#x27;peak-rpm&#x27;,\n",
       "                                                   &#x27;city-mpg&#x27;, &#x27;highway-mpg&#x27;]),\n",
       "                                                 (&#x27;cat_encoder&#x27;,\n",
       "                                                  OrdinalEncoder(handle_unknown=&#x27;use_encoded_value&#x27;,\n",
       "                                                                 unknown_value=-1)...\n",
       "                              enable_categorical=False, eval_metric=None,\n",
       "                              feature_types=None, gamma=None, grow_policy=None,\n",
       "                              importance_type=None,\n",
       "                              interaction_constraints=None, learning_rate=0.05,\n",
       "                              max_bin=None, max_cat_threshold=None,\n",
       "                              max_cat_to_onehot=None, max_delta_step=None,\n",
       "                              max_depth=3, max_leaves=None, min_child_weight=4,\n",
       "                              missing=nan, monotone_constraints=None,\n",
       "                              multi_strategy=None, n_estimators=200,\n",
       "                              n_jobs=None, nthread=4, ...))])</pre><b>In a Jupyter environment, please rerun this cell to show the HTML representation or trust the notebook. <br />On GitHub, the HTML representation is unable to render, please try loading this page with nbviewer.org.</b></div><div class=\"sk-container\" hidden><div class=\"sk-item sk-dashed-wrapped\"><div class=\"sk-label-container\"><div class=\"sk-label sk-toggleable\"><input class=\"sk-toggleable__control sk-hidden--visually\" id=\"sk-estimator-id-4\" type=\"checkbox\" ><label for=\"sk-estimator-id-4\" class=\"sk-toggleable__label sk-toggleable__label-arrow\">Pipeline</label><div class=\"sk-toggleable__content\"><pre>Pipeline(steps=[(&#x27;preprocessing&#x27;,\n",
       "                 ColumnTransformer(transformers=[(&#x27;num_inputer&#x27;,\n",
       "                                                  SimpleImputer(strategy=&#x27;median&#x27;),\n",
       "                                                  [&#x27;wheel-base&#x27;, &#x27;length&#x27;,\n",
       "                                                   &#x27;width&#x27;, &#x27;height&#x27;,\n",
       "                                                   &#x27;curb-weight&#x27;, &#x27;engine-size&#x27;,\n",
       "                                                   &#x27;bore&#x27;, &#x27;stroke&#x27;,\n",
       "                                                   &#x27;compression-ratio&#x27;,\n",
       "                                                   &#x27;horsepower&#x27;, &#x27;peak-rpm&#x27;,\n",
       "                                                   &#x27;city-mpg&#x27;, &#x27;highway-mpg&#x27;]),\n",
       "                                                 (&#x27;cat_encoder&#x27;,\n",
       "                                                  OrdinalEncoder(handle_unknown=&#x27;use_encoded_value&#x27;,\n",
       "                                                                 unknown_value=-1)...\n",
       "                              enable_categorical=False, eval_metric=None,\n",
       "                              feature_types=None, gamma=None, grow_policy=None,\n",
       "                              importance_type=None,\n",
       "                              interaction_constraints=None, learning_rate=0.05,\n",
       "                              max_bin=None, max_cat_threshold=None,\n",
       "                              max_cat_to_onehot=None, max_delta_step=None,\n",
       "                              max_depth=3, max_leaves=None, min_child_weight=4,\n",
       "                              missing=nan, monotone_constraints=None,\n",
       "                              multi_strategy=None, n_estimators=200,\n",
       "                              n_jobs=None, nthread=4, ...))])</pre></div></div></div><div class=\"sk-serial\"><div class=\"sk-item sk-dashed-wrapped\"><div class=\"sk-label-container\"><div class=\"sk-label sk-toggleable\"><input class=\"sk-toggleable__control sk-hidden--visually\" id=\"sk-estimator-id-5\" type=\"checkbox\" ><label for=\"sk-estimator-id-5\" class=\"sk-toggleable__label sk-toggleable__label-arrow\">preprocessing: ColumnTransformer</label><div class=\"sk-toggleable__content\"><pre>ColumnTransformer(transformers=[(&#x27;num_inputer&#x27;,\n",
       "                                 SimpleImputer(strategy=&#x27;median&#x27;),\n",
       "                                 [&#x27;wheel-base&#x27;, &#x27;length&#x27;, &#x27;width&#x27;, &#x27;height&#x27;,\n",
       "                                  &#x27;curb-weight&#x27;, &#x27;engine-size&#x27;, &#x27;bore&#x27;,\n",
       "                                  &#x27;stroke&#x27;, &#x27;compression-ratio&#x27;, &#x27;horsepower&#x27;,\n",
       "                                  &#x27;peak-rpm&#x27;, &#x27;city-mpg&#x27;, &#x27;highway-mpg&#x27;]),\n",
       "                                (&#x27;cat_encoder&#x27;,\n",
       "                                 OrdinalEncoder(handle_unknown=&#x27;use_encoded_value&#x27;,\n",
       "                                                unknown_value=-1),\n",
       "                                 [&#x27;make&#x27;, &#x27;fuel-type&#x27;, &#x27;aspiration&#x27;,\n",
       "                                  &#x27;num-of-doors&#x27;, &#x27;body-style&#x27;, &#x27;drive-wheels&#x27;,\n",
       "                                  &#x27;engine-location&#x27;, &#x27;engine-type&#x27;,\n",
       "                                  &#x27;num-of-cylinders&#x27;, &#x27;fuel-system&#x27;])])</pre></div></div></div><div class=\"sk-parallel\"><div class=\"sk-parallel-item\"><div class=\"sk-item\"><div class=\"sk-label-container\"><div class=\"sk-label sk-toggleable\"><input class=\"sk-toggleable__control sk-hidden--visually\" id=\"sk-estimator-id-6\" type=\"checkbox\" ><label for=\"sk-estimator-id-6\" class=\"sk-toggleable__label sk-toggleable__label-arrow\">num_inputer</label><div class=\"sk-toggleable__content\"><pre>[&#x27;wheel-base&#x27;, &#x27;length&#x27;, &#x27;width&#x27;, &#x27;height&#x27;, &#x27;curb-weight&#x27;, &#x27;engine-size&#x27;, &#x27;bore&#x27;, &#x27;stroke&#x27;, &#x27;compression-ratio&#x27;, &#x27;horsepower&#x27;, &#x27;peak-rpm&#x27;, &#x27;city-mpg&#x27;, &#x27;highway-mpg&#x27;]</pre></div></div></div><div class=\"sk-serial\"><div class=\"sk-item\"><div class=\"sk-estimator sk-toggleable\"><input class=\"sk-toggleable__control sk-hidden--visually\" id=\"sk-estimator-id-7\" type=\"checkbox\" ><label for=\"sk-estimator-id-7\" class=\"sk-toggleable__label sk-toggleable__label-arrow\">SimpleImputer</label><div class=\"sk-toggleable__content\"><pre>SimpleImputer(strategy=&#x27;median&#x27;)</pre></div></div></div></div></div></div><div class=\"sk-parallel-item\"><div class=\"sk-item\"><div class=\"sk-label-container\"><div class=\"sk-label sk-toggleable\"><input class=\"sk-toggleable__control sk-hidden--visually\" id=\"sk-estimator-id-8\" type=\"checkbox\" ><label for=\"sk-estimator-id-8\" class=\"sk-toggleable__label sk-toggleable__label-arrow\">cat_encoder</label><div class=\"sk-toggleable__content\"><pre>[&#x27;make&#x27;, &#x27;fuel-type&#x27;, &#x27;aspiration&#x27;, &#x27;num-of-doors&#x27;, &#x27;body-style&#x27;, &#x27;drive-wheels&#x27;, &#x27;engine-location&#x27;, &#x27;engine-type&#x27;, &#x27;num-of-cylinders&#x27;, &#x27;fuel-system&#x27;]</pre></div></div></div><div class=\"sk-serial\"><div class=\"sk-item\"><div class=\"sk-estimator sk-toggleable\"><input class=\"sk-toggleable__control sk-hidden--visually\" id=\"sk-estimator-id-9\" type=\"checkbox\" ><label for=\"sk-estimator-id-9\" class=\"sk-toggleable__label sk-toggleable__label-arrow\">OrdinalEncoder</label><div class=\"sk-toggleable__content\"><pre>OrdinalEncoder(handle_unknown=&#x27;use_encoded_value&#x27;, unknown_value=-1)</pre></div></div></div></div></div></div></div></div><div class=\"sk-item\"><div class=\"sk-estimator sk-toggleable\"><input class=\"sk-toggleable__control sk-hidden--visually\" id=\"sk-estimator-id-10\" type=\"checkbox\" ><label for=\"sk-estimator-id-10\" class=\"sk-toggleable__label sk-toggleable__label-arrow\">XGBRegressor</label><div class=\"sk-toggleable__content\"><pre>XGBRegressor(alpha=0, base_score=None, booster=None, callbacks=None,\n",
       "             colsample_bylevel=None, colsample_bynode=None,\n",
       "             colsample_bytree=0.7, device=None, early_stopping_rounds=None,\n",
       "             enable_categorical=False, eval_metric=None, feature_types=None,\n",
       "             gamma=None, grow_policy=None, importance_type=None,\n",
       "             interaction_constraints=None, learning_rate=0.05, max_bin=None,\n",
       "             max_cat_threshold=None, max_cat_to_onehot=None,\n",
       "             max_delta_step=None, max_depth=3, max_leaves=None,\n",
       "             min_child_weight=4, missing=nan, monotone_constraints=None,\n",
       "             multi_strategy=None, n_estimators=200, n_jobs=None, nthread=4, ...)</pre></div></div></div></div></div></div></div>"
      ],
      "text/plain": [
       "Pipeline(steps=[('preprocessing',\n",
       "                 ColumnTransformer(transformers=[('num_inputer',\n",
       "                                                  SimpleImputer(strategy='median'),\n",
       "                                                  ['wheel-base', 'length',\n",
       "                                                   'width', 'height',\n",
       "                                                   'curb-weight', 'engine-size',\n",
       "                                                   'bore', 'stroke',\n",
       "                                                   'compression-ratio',\n",
       "                                                   'horsepower', 'peak-rpm',\n",
       "                                                   'city-mpg', 'highway-mpg']),\n",
       "                                                 ('cat_encoder',\n",
       "                                                  OrdinalEncoder(handle_unknown='use_encoded_value',\n",
       "                                                                 unknown_value=-1)...\n",
       "                              enable_categorical=False, eval_metric=None,\n",
       "                              feature_types=None, gamma=None, grow_policy=None,\n",
       "                              importance_type=None,\n",
       "                              interaction_constraints=None, learning_rate=0.05,\n",
       "                              max_bin=None, max_cat_threshold=None,\n",
       "                              max_cat_to_onehot=None, max_delta_step=None,\n",
       "                              max_depth=3, max_leaves=None, min_child_weight=4,\n",
       "                              missing=nan, monotone_constraints=None,\n",
       "                              multi_strategy=None, n_estimators=200,\n",
       "                              n_jobs=None, nthread=4, ...))])"
      ]
     },
     "execution_count": 89,
     "metadata": {},
     "output_type": "execute_result"
    }
   ],
   "source": [
    "model_pipeline.fit(X_train, y_train.to_numpy())"
   ]
  },
  {
   "cell_type": "code",
   "execution_count": 90,
   "metadata": {},
   "outputs": [],
   "source": [
    "from mlflow.models.signature import infer_signature"
   ]
  },
  {
   "cell_type": "code",
   "execution_count": 91,
   "metadata": {},
   "outputs": [],
   "source": [
    "signature = infer_signature(X_test, y_test.values)"
   ]
  },
  {
   "cell_type": "code",
   "execution_count": 92,
   "metadata": {},
   "outputs": [
    {
     "data": {
      "text/plain": [
       "<mlflow.models.model.ModelInfo at 0x166022ef0>"
      ]
     },
     "execution_count": 92,
     "metadata": {},
     "output_type": "execute_result"
    }
   ],
   "source": [
    "mlflow.sklearn.log_model(model_pipeline, \"model\", signature=signature)"
   ]
  },
  {
   "cell_type": "code",
   "execution_count": 93,
   "metadata": {},
   "outputs": [],
   "source": [
    "mlflow.end_run()"
   ]
  }
 ],
 "metadata": {
  "kernelspec": {
   "display_name": "3.10.0",
   "language": "python",
   "name": "python3"
  },
  "language_info": {
   "codemirror_mode": {
    "name": "ipython",
    "version": 3
   },
   "file_extension": ".py",
   "mimetype": "text/x-python",
   "name": "python",
   "nbconvert_exporter": "python",
   "pygments_lexer": "ipython3",
   "version": "3.10.0"
  }
 },
 "nbformat": 4,
 "nbformat_minor": 2
}
