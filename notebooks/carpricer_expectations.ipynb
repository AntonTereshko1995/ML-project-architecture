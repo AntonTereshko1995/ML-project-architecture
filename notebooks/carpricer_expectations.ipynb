{
 "cells": [
  {
   "cell_type": "code",
   "execution_count": 12,
   "metadata": {},
   "outputs": [],
   "source": [
    "import os\n",
    "import pandas as pd\n",
    "import great_expectations as ge"
   ]
  },
  {
   "cell_type": "code",
   "execution_count": null,
   "metadata": {},
   "outputs": [],
   "source": [
    "%cd ../data"
   ]
  },
  {
   "cell_type": "code",
   "execution_count": 14,
   "metadata": {},
   "outputs": [],
   "source": [
    "context = ge.get_context()"
   ]
  },
  {
   "cell_type": "code",
   "execution_count": 15,
   "metadata": {},
   "outputs": [],
   "source": [
    "# todo: need change a path\n",
    "df = pd.read_csv(\"../data/sample/automobile_prepared.csv\")"
   ]
  },
  {
   "cell_type": "code",
   "execution_count": 32,
   "metadata": {},
   "outputs": [],
   "source": [
    "base_data_directory = f\"{os.getcwd()}\"\n",
    "batch_parameters = {\"dataframe\": df}"
   ]
  },
  {
   "cell_type": "code",
   "execution_count": null,
   "metadata": {},
   "outputs": [],
   "source": [
    "# Retrieve a Validation Definition that uses the dataframe Batch Definition\n",
    "validation_definition_name = \"car_validation_definition\"\n",
    "validation_definition = context.validation_definitions.get(validation_definition_name)\n",
    "\n",
    "# Validate the dataframe by passing it to the Validation Definition as Batch Parameters.\n",
    "validation_results = validation_definition.run(batch_parameters=batch_parameters)\n",
    "print(validation_results)"
   ]
  },
  {
   "cell_type": "code",
   "execution_count": null,
   "metadata": {},
   "outputs": [],
   "source": [
    "# Retrieve the dataframe Batch Definition\n",
    "\n",
    "data_source_name = \"carprices\"\n",
    "data_asset_name = \"sample\"\n",
    "batch_definition_name = \"carprices_batch_definition\"\n",
    "\n",
    "batch_definition = (\n",
    "    context.data_sources.get(data_source_name)\n",
    "    .get_asset(data_asset_name)\n",
    "    .get_batch_definition(batch_definition_name)\n",
    ")"
   ]
  },
  {
   "cell_type": "code",
   "execution_count": null,
   "metadata": {},
   "outputs": [],
   "source": [
    "# Create an Expectation to test\n",
    "expectation = ge.expectations.ExpectColumnValuesToBeBetween(\n",
    "    column=\"passenger_count\", max_value=6, min_value=1\n",
    ")\n",
    "\n",
    "# Get the dataframe as a Batch\n",
    "batch = batch_definition.get_batch(batch_parameters=batch_parameters)\n",
    "\n",
    "# Test the Expectation\n",
    "validation_results = batch.validate(expectation)\n",
    "print(validation_results)"
   ]
  },
  {
   "cell_type": "code",
   "execution_count": null,
   "metadata": {},
   "outputs": [],
   "source": []
  }
 ],
 "metadata": {
  "kernelspec": {
   "display_name": "3.10.0",
   "language": "python",
   "name": "python3"
  },
  "language_info": {
   "codemirror_mode": {
    "name": "ipython",
    "version": 3
   },
   "file_extension": ".py",
   "mimetype": "text/x-python",
   "name": "python",
   "nbconvert_exporter": "python",
   "pygments_lexer": "ipython3",
   "version": "3.10.0"
  }
 },
 "nbformat": 4,
 "nbformat_minor": 2
}
